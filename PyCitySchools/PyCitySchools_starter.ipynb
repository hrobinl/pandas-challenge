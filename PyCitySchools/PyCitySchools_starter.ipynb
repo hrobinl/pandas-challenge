{
 "cells": [
  {
   "cell_type": "code",
   "execution_count": 1,
   "id": "e0fe7e01",
   "metadata": {},
   "outputs": [],
   "source": [
    "#Set up:\n",
    "import pandas as pd\n",
    "from pathlib import Path"
   ]
  },
  {
   "cell_type": "code",
   "execution_count": 4,
   "id": "f0460d22",
   "metadata": {},
   "outputs": [],
   "source": [
    "#Files to import in:\n",
    "student_data_to_import = Path('C:\\\\Users\\\\hanna\\\\OneDrive\\\\Desktop\\\\Pandas_Starter_Code\\\\PyCitySchools\\\\Resources\\\\students_complete.csv')\n",
    "school_data_to_import = Path('C:\\\\Users\\\\hanna\\\\OneDrive\\\\Desktop\\\\Pandas_Starter_Code\\\\PyCitySchools\\\\Resources\\\\schools_complete.csv')"
   ]
  },
  {
   "cell_type": "code",
   "execution_count": 11,
   "id": "08999a9a",
   "metadata": {},
   "outputs": [],
   "source": [
    "#Store files as DataFrames in Pandas: *Student Data and *School Data\n",
    "student_data = pd.read_csv(student_data_to_import)\n",
    "school_data = pd.read_csv(school_data_to_import)"
   ]
  },
  {
   "cell_type": "code",
   "execution_count": 12,
   "id": "ef837d6f",
   "metadata": {},
   "outputs": [],
   "source": [
    "#Combine the data into a single dataset\n",
    "school_data_complete = pd.merge(student_data, school_data, how=\"left\", on=[\"school_name\", \"school_name\"])"
   ]
  },
  {
   "cell_type": "markdown",
   "id": "c5c8429f",
   "metadata": {},
   "source": [
    "Disctrict Summary"
   ]
  },
  {
   "cell_type": "code",
   "execution_count": 13,
   "id": "c031f8a6",
   "metadata": {},
   "outputs": [
    {
     "data": {
      "text/plain": [
       "15"
      ]
     },
     "execution_count": 13,
     "metadata": {},
     "output_type": "execute_result"
    }
   ],
   "source": [
    "#DISCT Total number of (unique) schools:\n",
    "total_schools = len(school_data_complete.school_name.unique())\n",
    "total_schools"
   ]
  },
  {
   "cell_type": "code",
   "execution_count": 14,
   "id": "719290cb",
   "metadata": {},
   "outputs": [
    {
     "data": {
      "text/plain": [
       "39170"
      ]
     },
     "execution_count": 14,
     "metadata": {},
     "output_type": "execute_result"
    }
   ],
   "source": [
    "#DISCT Total number of students:\n",
    "total_students = school_data_complete.student_name.count()\n",
    "total_students"
   ]
  },
  {
   "cell_type": "code",
   "execution_count": 15,
   "id": "32573164",
   "metadata": {},
   "outputs": [
    {
     "data": {
      "text/plain": [
       "24649428"
      ]
     },
     "execution_count": 15,
     "metadata": {},
     "output_type": "execute_result"
    }
   ],
   "source": [
    "#DISCT Total budget:\n",
    "total_budget = total_budget = sum(school_data_complete.budget.unique()) \n",
    "total_budget"
   ]
  },
  {
   "cell_type": "code",
   "execution_count": 16,
   "id": "1a29ef0f",
   "metadata": {},
   "outputs": [
    {
     "data": {
      "text/plain": [
       "78.98537145774827"
      ]
     },
     "execution_count": 16,
     "metadata": {},
     "output_type": "execute_result"
    }
   ],
   "source": [
    "#DISCT Average math score:\n",
    "average_math_score = school_data_complete.math_score.mean()\n",
    "average_math_score"
   ]
  },
  {
   "cell_type": "code",
   "execution_count": 17,
   "id": "fc9e06dd",
   "metadata": {},
   "outputs": [
    {
     "data": {
      "text/plain": [
       "81.87784018381414"
      ]
     },
     "execution_count": 17,
     "metadata": {},
     "output_type": "execute_result"
    }
   ],
   "source": [
    "#DISCT Average reading score:\n",
    "average_reading_score = school_data_complete.reading_score.mean()\n",
    "average_reading_score"
   ]
  },
  {
   "cell_type": "code",
   "execution_count": 37,
   "id": "947960b9",
   "metadata": {},
   "outputs": [
    {
     "data": {
      "text/plain": [
       "0.0019142418354196528"
      ]
     },
     "execution_count": 37,
     "metadata": {},
     "output_type": "execute_result"
    }
   ],
   "source": [
    "#DISCT Percent of passing math (the percentage of students who passed math with scores greater than or equal to 70):\n",
    "passing_math_count = (school_data_complete[school_data_complete['math_score'] >= 70].math_score.count()) / total_students\n",
    "passing_math_count = passing_math_count / float(total_students) * 100\n",
    "passing_math_count"
   ]
  },
  {
   "cell_type": "code",
   "execution_count": 38,
   "id": "95fd7a19",
   "metadata": {},
   "outputs": [
    {
     "data": {
      "text/plain": [
       "0.002190591354731172"
      ]
     },
     "execution_count": 38,
     "metadata": {},
     "output_type": "execute_result"
    }
   ],
   "source": [
    "#DISCT Percent of passing math (the percentage of students who passed reading with scores greater than or equal to 70):\n",
    "passing_reading_count = (school_data_complete[school_data_complete['reading_score'] >= 70].reading_score.count()) / total_students\n",
    "passing_reading_count = passing_reading_count / float(total_students) * 100\n",
    "passing_reading_count"
   ]
  },
  {
   "cell_type": "code",
   "execution_count": 40,
   "id": "4cf11214",
   "metadata": {},
   "outputs": [
    {
     "data": {
      "text/plain": [
       "0.002052416595075412"
      ]
     },
     "execution_count": 40,
     "metadata": {},
     "output_type": "execute_result"
    }
   ],
   "source": [
    "#DISCT Overall passing rate:\n",
    "overall_passing_rate = (passing_math_count + passing_reading_count)/2\n",
    "overall_passing_rate"
   ]
  },
  {
   "cell_type": "code",
   "execution_count": 41,
   "id": "e6d68cdc",
   "metadata": {},
   "outputs": [],
   "source": [
    "#Combine data into a single dataset:Total number of unique schools, Total students, Total budget, Average math score, Average reading score, % passing math (the percentage of students who passed math),% passing reading (the percentage of students who passed reading), % overall passing (the percentage of students who passed math AND reading)\n",
    "#Store all calculations into dataframe\n",
    "district_summary_df= pd.DataFrame(\n",
    "    [\n",
    "        {\n",
    "                                 \"Total Schools\": total_schools,\n",
    "                                 \"Total Students\":total_students,\n",
    "                                 \"Total Budget\":total_budget,\n",
    "                                 \"Average Math Score\":average_math_score,\n",
    "                                 \"Average Reading Score\":average_reading_score,                        \n",
    "                                 \"% Passing Math\":passing_math_pct*100,\n",
    "                                 \"% Passing Reading\":passing_reading_pct*100,\n",
    "                                 \"% Overall Passing Rate\":overall_passing_rate*100\n",
    "        }\n",
    "    ]\n",
    ")   "
   ]
  },
  {
   "cell_type": "code",
   "execution_count": 44,
   "id": "e98b345b",
   "metadata": {},
   "outputs": [
    {
     "ename": "NameError",
     "evalue": "name 'district_summary' is not defined",
     "output_type": "error",
     "traceback": [
      "\u001b[1;31m---------------------------------------------------------------------------\u001b[0m",
      "\u001b[1;31mNameError\u001b[0m                                 Traceback (most recent call last)",
      "Cell \u001b[1;32mIn[44], line 2\u001b[0m\n\u001b[0;32m      1\u001b[0m \u001b[39m# Reformat Total Students and Total Budget\u001b[39;00m\n\u001b[1;32m----> 2\u001b[0m district_summary[\u001b[39m'\u001b[39m\u001b[39mTotal Students\u001b[39m\u001b[39m'\u001b[39m] \u001b[39m=\u001b[39m district_summary\u001b[39m.\u001b[39mapply(\u001b[39mlambda\u001b[39;00m x: \u001b[39m\"\u001b[39m\u001b[39m{:,.0f}\u001b[39;00m\u001b[39m\"\u001b[39m\u001b[39m.\u001b[39mformat(x[\u001b[39m'\u001b[39m\u001b[39mTotal Students\u001b[39m\u001b[39m'\u001b[39m]), axis\u001b[39m=\u001b[39m\u001b[39m1\u001b[39m)\n\u001b[0;32m      3\u001b[0m district_summary[\u001b[39m'\u001b[39m\u001b[39mTotal Budget\u001b[39m\u001b[39m'\u001b[39m] \u001b[39m=\u001b[39m district_summary\u001b[39m.\u001b[39mapply(\u001b[39mlambda\u001b[39;00m x: \u001b[39m\"\u001b[39m\u001b[39m$\u001b[39m\u001b[39m{:,.2f}\u001b[39;00m\u001b[39m\"\u001b[39m\u001b[39m.\u001b[39mformat(x[\u001b[39m'\u001b[39m\u001b[39mTotal Budget\u001b[39m\u001b[39m'\u001b[39m]), axis\u001b[39m=\u001b[39m\u001b[39m1\u001b[39m)\n\u001b[0;32m      5\u001b[0m \u001b[39m# Print Summary Dataframe\u001b[39;00m\n",
      "\u001b[1;31mNameError\u001b[0m: name 'district_summary' is not defined"
     ]
    }
   ],
   "source": [
    "# Reformat Total Students and Total Budget\n",
    "district_summary['Total Students'] = district_summary.apply(lambda x: \"{:,.0f}\".format(x['Total Students']), axis=1)\n",
    "district_summary['Total Budget'] = district_summary.apply(lambda x: \"${:,.2f}\".format(x['Total Budget']), axis=1)\n",
    "\n",
    "# Print Summary Dataframe\n",
    "district_summary"
   ]
  },
  {
   "cell_type": "code",
   "execution_count": 43,
   "id": "6e8fb553",
   "metadata": {},
   "outputs": [
    {
     "ename": "NameError",
     "evalue": "name 'district_summary' is not defined",
     "output_type": "error",
     "traceback": [
      "\u001b[1;31m---------------------------------------------------------------------------\u001b[0m",
      "\u001b[1;31mNameError\u001b[0m                                 Traceback (most recent call last)",
      "Cell \u001b[1;32mIn[43], line 2\u001b[0m\n\u001b[0;32m      1\u001b[0m \u001b[39m#Print Summary Dataframe\u001b[39;00m\n\u001b[1;32m----> 2\u001b[0m district_summary\n",
      "\u001b[1;31mNameError\u001b[0m: name 'district_summary' is not defined"
     ]
    }
   ],
   "source": [
    "#Print Summary Dataframe\n",
    "district_summary"
   ]
  },
  {
   "cell_type": "markdown",
   "id": "8cb6d21d",
   "metadata": {},
   "source": [
    "School Summary"
   ]
  },
  {
   "cell_type": "code",
   "execution_count": null,
   "id": "cdc261fe",
   "metadata": {},
   "outputs": [
    {
     "data": {
      "text/plain": [
       "<pandas.core.groupby.generic.DataFrameGroupBy object at 0x000001A1C785FB80>"
      ]
     },
     "execution_count": 219,
     "metadata": {},
     "output_type": "execute_result"
    }
   ],
   "source": [
    "#School count types\n",
    "school_types = school_data.sort_values(by=\"school_name\").type\n",
    "school_types"
   ]
  },
  {
   "cell_type": "code",
   "execution_count": null,
   "id": "38f76340",
   "metadata": {},
   "outputs": [
    {
     "data": {
      "text/plain": [
       "[4976,\n",
       " 1858,\n",
       " 2949,\n",
       " 2739,\n",
       " 1468,\n",
       " 4635,\n",
       " 427,\n",
       " 2917,\n",
       " 4761,\n",
       " 962,\n",
       " 3999,\n",
       " 1761,\n",
       " 1635,\n",
       " 2283,\n",
       " 1800]"
      ]
     },
     "execution_count": 214,
     "metadata": {},
     "output_type": "execute_result"
    }
   ],
   "source": [
    "#Student count per school\n",
    "school_total_students = list(school_summary.student_name.count())\n",
    "school_total_students"
   ]
  }
 ],
 "metadata": {
  "kernelspec": {
   "display_name": "Python 3 (ipykernel)",
   "language": "python",
   "name": "python3"
  },
  "language_info": {
   "codemirror_mode": {
    "name": "ipython",
    "version": 3
   },
   "file_extension": ".py",
   "mimetype": "text/x-python",
   "name": "python",
   "nbconvert_exporter": "python",
   "pygments_lexer": "ipython3",
   "version": "3.10.11"
  }
 },
 "nbformat": 4,
 "nbformat_minor": 5
}
