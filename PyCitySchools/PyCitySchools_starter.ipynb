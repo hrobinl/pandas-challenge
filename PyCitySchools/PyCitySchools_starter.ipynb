{
 "cells": [
  {
   "cell_type": "markdown",
   "id": "5de57e74",
   "metadata": {},
   "source": [
    "## PyCity School Analysis"
   ]
  },
  {
   "cell_type": "code",
   "execution_count": 428,
   "id": "e0fe7e01",
   "metadata": {},
   "outputs": [],
   "source": [
    "#Set up:\n",
    "import pandas as pd\n",
    "from pathlib import Path\n",
    "#import numpy as np\n",
    "#import matplotlib.pyplot as plt"
   ]
  },
  {
   "cell_type": "code",
   "execution_count": 429,
   "id": "f0460d22",
   "metadata": {},
   "outputs": [],
   "source": [
    "#Files to import in:\n",
    "student_data_to_import = Path('C:\\\\Users\\\\hanna\\\\OneDrive\\\\Desktop\\\\Pandas_Starter_Code\\\\PyCitySchools\\\\Resources\\\\students_complete.csv')\n",
    "school_data_to_import = Path('C:\\\\Users\\\\hanna\\\\OneDrive\\\\Desktop\\\\Pandas_Starter_Code\\\\PyCitySchools\\\\Resources\\\\schools_complete.csv')"
   ]
  },
  {
   "cell_type": "code",
   "execution_count": 430,
   "id": "08999a9a",
   "metadata": {},
   "outputs": [],
   "source": [
    "#Store files as DataFrames in Pandas: *Student Data and *School Data\n",
    "student_data = pd.read_csv(student_data_to_import)\n",
    "school_data = pd.read_csv(school_data_to_import)"
   ]
  },
  {
   "cell_type": "code",
   "execution_count": 431,
   "id": "ef837d6f",
   "metadata": {},
   "outputs": [
    {
     "data": {
      "text/html": [
       "<div>\n",
       "<style scoped>\n",
       "    .dataframe tbody tr th:only-of-type {\n",
       "        vertical-align: middle;\n",
       "    }\n",
       "\n",
       "    .dataframe tbody tr th {\n",
       "        vertical-align: top;\n",
       "    }\n",
       "\n",
       "    .dataframe thead th {\n",
       "        text-align: right;\n",
       "    }\n",
       "</style>\n",
       "<table border=\"1\" class=\"dataframe\">\n",
       "  <thead>\n",
       "    <tr style=\"text-align: right;\">\n",
       "      <th></th>\n",
       "      <th>Student ID</th>\n",
       "      <th>student_name</th>\n",
       "      <th>gender</th>\n",
       "      <th>grade</th>\n",
       "      <th>school_name</th>\n",
       "      <th>reading_score</th>\n",
       "      <th>math_score</th>\n",
       "      <th>School ID</th>\n",
       "      <th>type</th>\n",
       "      <th>size</th>\n",
       "      <th>budget</th>\n",
       "    </tr>\n",
       "  </thead>\n",
       "  <tbody>\n",
       "    <tr>\n",
       "      <th>0</th>\n",
       "      <td>0</td>\n",
       "      <td>Paul Bradley</td>\n",
       "      <td>M</td>\n",
       "      <td>9th</td>\n",
       "      <td>Huang High School</td>\n",
       "      <td>66</td>\n",
       "      <td>79</td>\n",
       "      <td>0</td>\n",
       "      <td>District</td>\n",
       "      <td>2917</td>\n",
       "      <td>1910635</td>\n",
       "    </tr>\n",
       "    <tr>\n",
       "      <th>1</th>\n",
       "      <td>1</td>\n",
       "      <td>Victor Smith</td>\n",
       "      <td>M</td>\n",
       "      <td>12th</td>\n",
       "      <td>Huang High School</td>\n",
       "      <td>94</td>\n",
       "      <td>61</td>\n",
       "      <td>0</td>\n",
       "      <td>District</td>\n",
       "      <td>2917</td>\n",
       "      <td>1910635</td>\n",
       "    </tr>\n",
       "    <tr>\n",
       "      <th>2</th>\n",
       "      <td>2</td>\n",
       "      <td>Kevin Rodriguez</td>\n",
       "      <td>M</td>\n",
       "      <td>12th</td>\n",
       "      <td>Huang High School</td>\n",
       "      <td>90</td>\n",
       "      <td>60</td>\n",
       "      <td>0</td>\n",
       "      <td>District</td>\n",
       "      <td>2917</td>\n",
       "      <td>1910635</td>\n",
       "    </tr>\n",
       "    <tr>\n",
       "      <th>3</th>\n",
       "      <td>3</td>\n",
       "      <td>Dr. Richard Scott</td>\n",
       "      <td>M</td>\n",
       "      <td>12th</td>\n",
       "      <td>Huang High School</td>\n",
       "      <td>67</td>\n",
       "      <td>58</td>\n",
       "      <td>0</td>\n",
       "      <td>District</td>\n",
       "      <td>2917</td>\n",
       "      <td>1910635</td>\n",
       "    </tr>\n",
       "    <tr>\n",
       "      <th>4</th>\n",
       "      <td>4</td>\n",
       "      <td>Bonnie Ray</td>\n",
       "      <td>F</td>\n",
       "      <td>9th</td>\n",
       "      <td>Huang High School</td>\n",
       "      <td>97</td>\n",
       "      <td>84</td>\n",
       "      <td>0</td>\n",
       "      <td>District</td>\n",
       "      <td>2917</td>\n",
       "      <td>1910635</td>\n",
       "    </tr>\n",
       "  </tbody>\n",
       "</table>\n",
       "</div>"
      ],
      "text/plain": [
       "   Student ID       student_name gender grade        school_name  \\\n",
       "0           0       Paul Bradley      M   9th  Huang High School   \n",
       "1           1       Victor Smith      M  12th  Huang High School   \n",
       "2           2    Kevin Rodriguez      M  12th  Huang High School   \n",
       "3           3  Dr. Richard Scott      M  12th  Huang High School   \n",
       "4           4         Bonnie Ray      F   9th  Huang High School   \n",
       "\n",
       "   reading_score  math_score  School ID      type  size   budget  \n",
       "0             66          79          0  District  2917  1910635  \n",
       "1             94          61          0  District  2917  1910635  \n",
       "2             90          60          0  District  2917  1910635  \n",
       "3             67          58          0  District  2917  1910635  \n",
       "4             97          84          0  District  2917  1910635  "
      ]
     },
     "execution_count": 431,
     "metadata": {},
     "output_type": "execute_result"
    }
   ],
   "source": [
    "#Combine the data into a single dataset\n",
    "school_data_complete = pd.merge(student_data, school_data, how=\"left\", on=[\"school_name\", \"school_name\"])\n",
    "school_data_complete.head()"
   ]
  },
  {
   "cell_type": "markdown",
   "id": "c5c8429f",
   "metadata": {},
   "source": [
    "## Disctrict Summary"
   ]
  },
  {
   "cell_type": "code",
   "execution_count": 432,
   "id": "c031f8a6",
   "metadata": {},
   "outputs": [
    {
     "data": {
      "text/plain": [
       "15"
      ]
     },
     "execution_count": 432,
     "metadata": {},
     "output_type": "execute_result"
    }
   ],
   "source": [
    "#DISCT Total number of (unique) schools:\n",
    "total_schools = len(school_data_complete.school_name.unique())\n",
    "total_schools"
   ]
  },
  {
   "cell_type": "code",
   "execution_count": 433,
   "id": "719290cb",
   "metadata": {},
   "outputs": [
    {
     "data": {
      "text/plain": [
       "39170"
      ]
     },
     "execution_count": 433,
     "metadata": {},
     "output_type": "execute_result"
    }
   ],
   "source": [
    "#DISCT Total number of students:\n",
    "total_students = school_data_complete.student_name.count()\n",
    "total_students"
   ]
  },
  {
   "cell_type": "code",
   "execution_count": 434,
   "id": "32573164",
   "metadata": {},
   "outputs": [
    {
     "data": {
      "text/plain": [
       "24649428"
      ]
     },
     "execution_count": 434,
     "metadata": {},
     "output_type": "execute_result"
    }
   ],
   "source": [
    "#DISCT Total budget:\n",
    "total_budget = total_budget = sum(school_data_complete.budget.unique()) \n",
    "total_budget"
   ]
  },
  {
   "cell_type": "code",
   "execution_count": 435,
   "id": "1a29ef0f",
   "metadata": {},
   "outputs": [
    {
     "data": {
      "text/plain": [
       "78.98537145774827"
      ]
     },
     "execution_count": 435,
     "metadata": {},
     "output_type": "execute_result"
    }
   ],
   "source": [
    "#DISCT Average math score:\n",
    "average_math_score = school_data_complete.math_score.mean()\n",
    "average_math_score"
   ]
  },
  {
   "cell_type": "code",
   "execution_count": 436,
   "id": "fc9e06dd",
   "metadata": {},
   "outputs": [
    {
     "data": {
      "text/plain": [
       "81.87784018381414"
      ]
     },
     "execution_count": 436,
     "metadata": {},
     "output_type": "execute_result"
    }
   ],
   "source": [
    "#DISCT Average reading score:\n",
    "average_reading_score = school_data_complete.reading_score.mean()\n",
    "average_reading_score"
   ]
  },
  {
   "cell_type": "code",
   "execution_count": 437,
   "id": "947960b9",
   "metadata": {},
   "outputs": [
    {
     "data": {
      "text/plain": [
       "0.0019142418354196528"
      ]
     },
     "execution_count": 437,
     "metadata": {},
     "output_type": "execute_result"
    }
   ],
   "source": [
    "#DISCT Percent of passing math (the percentage of students who passed math with scores greater than or equal to 70):\n",
    "passing_math_count = (school_data_complete[school_data_complete['math_score'] >= 70].math_score.count()) / total_students\n",
    "passing_math_count = passing_math_count / float(total_students) * 100\n",
    "passing_math_count"
   ]
  },
  {
   "cell_type": "code",
   "execution_count": 438,
   "id": "e7ac40f9",
   "metadata": {},
   "outputs": [
    {
     "data": {
      "text/plain": [
       "0.002190591354731172"
      ]
     },
     "execution_count": 438,
     "metadata": {},
     "output_type": "execute_result"
    }
   ],
   "source": [
    "#DISCT Percent of passing math (the percentage of students who passed reading with scores greater than or equal to 70):\n",
    "passing_reading_count = (school_data_complete[school_data_complete['reading_score'] >= 70].reading_score.count()) / total_students\n",
    "passing_reading_count = passing_reading_count / float(total_students) * 100\n",
    "passing_reading_count"
   ]
  },
  {
   "cell_type": "code",
   "execution_count": 439,
   "id": "de7efa07",
   "metadata": {},
   "outputs": [
    {
     "data": {
      "text/plain": [
       "0.002190591354731172"
      ]
     },
     "execution_count": 439,
     "metadata": {},
     "output_type": "execute_result"
    }
   ],
   "source": [
    "#DISCT Percent passing reading (the percentage of students who passed reading with scores greater than or equal to 70):\n",
    "passing_reading_pct = (school_data_complete[school_data_complete['reading_score'] >= 70].reading_score.count()) / total_students\n",
    "#passing_reading_count= passing_reading_count / float(total_students) * 100\n",
    "passing_reading_count"
   ]
  },
  {
   "cell_type": "code",
   "execution_count": 440,
   "id": "4cf11214",
   "metadata": {},
   "outputs": [
    {
     "data": {
      "text/plain": [
       "0.002052416595075412"
      ]
     },
     "execution_count": 440,
     "metadata": {},
     "output_type": "execute_result"
    }
   ],
   "source": [
    "#DISCT Overall passing rate:\n",
    "overall_passing_rate = (passing_math_count + passing_reading_count)/2\n",
    "overall_passing_rate"
   ]
  },
  {
   "cell_type": "code",
   "execution_count": 441,
   "id": "e6d68cdc",
   "metadata": {},
   "outputs": [],
   "source": [
    "#Combine data into a single dataset:Total number of unique schools, Total students, Total budget, Average math score, Average reading score, % passing math (the percentage of students who passed math),% passing reading (the percentage of students who passed reading), % overall passing (the percentage of students who passed math AND reading)\n",
    "#Store all calculations into dataframe\n",
    "district_summary= pd.DataFrame(\n",
    "    [\n",
    "        {\n",
    "                                 \"Total Schools\": total_schools,\n",
    "                                 \"Total Students\":total_students,\n",
    "                                 \"Total Budget\":total_budget,\n",
    "                                 \"Average Math Score\":average_math_score,\n",
    "                                 \"Average Reading Score\":average_reading_score,                        \n",
    "                                 \"% Passing Math\":passing_math_pct*100,\n",
    "                                 \"% Passing Reading\":passing_reading_pct*100,\n",
    "                                 \"% Overall Passing Rate\":overall_passing_rate*100\n",
    "        }\n",
    "    ]\n",
    ")   "
   ]
  },
  {
   "cell_type": "code",
   "execution_count": 442,
   "id": "e98b345b",
   "metadata": {},
   "outputs": [
    {
     "data": {
      "text/html": [
       "<div>\n",
       "<style scoped>\n",
       "    .dataframe tbody tr th:only-of-type {\n",
       "        vertical-align: middle;\n",
       "    }\n",
       "\n",
       "    .dataframe tbody tr th {\n",
       "        vertical-align: top;\n",
       "    }\n",
       "\n",
       "    .dataframe thead th {\n",
       "        text-align: right;\n",
       "    }\n",
       "</style>\n",
       "<table border=\"1\" class=\"dataframe\">\n",
       "  <thead>\n",
       "    <tr style=\"text-align: right;\">\n",
       "      <th></th>\n",
       "      <th>Total Schools</th>\n",
       "      <th>Total Students</th>\n",
       "      <th>Total Budget</th>\n",
       "      <th>Average Math Score</th>\n",
       "      <th>Average Reading Score</th>\n",
       "      <th>% Passing Math</th>\n",
       "      <th>% Passing Reading</th>\n",
       "      <th>% Overall Passing Rate</th>\n",
       "    </tr>\n",
       "  </thead>\n",
       "  <tbody>\n",
       "    <tr>\n",
       "      <th>0</th>\n",
       "      <td>15</td>\n",
       "      <td>39,170</td>\n",
       "      <td>$24,649,428.00</td>\n",
       "      <td>78.985371</td>\n",
       "      <td>81.87784</td>\n",
       "      <td>74.980853</td>\n",
       "      <td>85.805463</td>\n",
       "      <td>0.205242</td>\n",
       "    </tr>\n",
       "  </tbody>\n",
       "</table>\n",
       "</div>"
      ],
      "text/plain": [
       "   Total Schools Total Students    Total Budget  Average Math Score  \\\n",
       "0             15         39,170  $24,649,428.00           78.985371   \n",
       "\n",
       "   Average Reading Score  % Passing Math  % Passing Reading  \\\n",
       "0               81.87784       74.980853          85.805463   \n",
       "\n",
       "   % Overall Passing Rate  \n",
       "0                0.205242  "
      ]
     },
     "execution_count": 442,
     "metadata": {},
     "output_type": "execute_result"
    }
   ],
   "source": [
    "#Reformat Total Students and Total Budget\n",
    "district_summary['Total Students'] = district_summary.apply(lambda x: \"{:,.0f}\".format(x['Total Students']), axis=1)\n",
    "district_summary['Total Budget'] = district_summary.apply(lambda x: \"${:,.2f}\".format(x['Total Budget']), axis=1)\n",
    "\n",
    "# Print Summary Dataframe\n",
    "district_summary"
   ]
  },
  {
   "cell_type": "markdown",
   "id": "8cb6d21d",
   "metadata": {},
   "source": [
    "## School Summary"
   ]
  },
  {
   "cell_type": "code",
   "execution_count": 443,
   "id": "cdc261fe",
   "metadata": {},
   "outputs": [
    {
     "data": {
      "text/plain": [
       "7     District\n",
       "6      Charter\n",
       "1     District\n",
       "13    District\n",
       "4      Charter\n",
       "3     District\n",
       "8      Charter\n",
       "0     District\n",
       "12    District\n",
       "9      Charter\n",
       "11    District\n",
       "2      Charter\n",
       "14     Charter\n",
       "5      Charter\n",
       "10     Charter\n",
       "Name: type, dtype: object"
      ]
     },
     "execution_count": 443,
     "metadata": {},
     "output_type": "execute_result"
    }
   ],
   "source": [
    "#School count types\n",
    "school_types = school_data.sort_values(by=\"school_name\").type\n",
    "school_types"
   ]
  },
  {
   "cell_type": "code",
   "execution_count": 444,
   "id": "80457d6c",
   "metadata": {},
   "outputs": [
    {
     "data": {
      "text/plain": [
       "school_name\n",
       "Bailey High School       4976\n",
       "Cabrera High School      1858\n",
       "Figueroa High School     2949\n",
       "Ford High School         2739\n",
       "Griffin High School      1468\n",
       "Hernandez High School    4635\n",
       "Holden High School        427\n",
       "Huang High School        2917\n",
       "Johnson High School      4761\n",
       "Pena High School          962\n",
       "Rodriguez High School    3999\n",
       "Shelton High School      1761\n",
       "Thomas High School       1635\n",
       "Wilson High School       2283\n",
       "Wright High School       1800\n",
       "Name: student_name, dtype: int64"
      ]
     },
     "execution_count": 444,
     "metadata": {},
     "output_type": "execute_result"
    }
   ],
   "source": [
    "#Student count per school\n",
    "school_total_students = list(school_summary.student_name.count())\n",
    "school_total_students\n",
    "\n",
    "#Calculate student count per school\n",
    "per_school_counts = (school_summary.student_name.count())\n",
    "per_school_counts"
   ]
  },
  {
   "cell_type": "code",
   "execution_count": 445,
   "id": "e4c3ef1f",
   "metadata": {},
   "outputs": [],
   "source": [
    "school_summary = (school_data_complete.groupby(['school_name']))\n",
    "school_names = school_data_complete.school_name.sort_values().unique()\n",
    "school_types = school_data.sort_values(by=\"school_name\").type"
   ]
  },
  {
   "cell_type": "code",
   "execution_count": 446,
   "id": "ee32efa1",
   "metadata": {},
   "outputs": [
    {
     "data": {
      "text/plain": [
       "[628.0,\n",
       " 582.0,\n",
       " 639.0,\n",
       " 644.0,\n",
       " 625.0,\n",
       " 652.0,\n",
       " 581.0,\n",
       " 655.0,\n",
       " 650.0,\n",
       " 609.0,\n",
       " 637.0,\n",
       " 600.0,\n",
       " 638.0,\n",
       " 578.0,\n",
       " 583.0]"
      ]
     },
     "execution_count": 446,
     "metadata": {},
     "output_type": "execute_result"
    }
   ],
   "source": [
    "#Calculate the total school budget and per capita spending per school\n",
    "school_budget = list(school_summary.budget.mean())\n",
    "school_budget\n",
    "\n",
    "per_school_capita = [i/j for i,j in zip(school_budget,school_total_students)]\n",
    "per_school_capita"
   ]
  },
  {
   "cell_type": "code",
   "execution_count": 447,
   "id": "468bb4b8",
   "metadata": {},
   "outputs": [
    {
     "data": {
      "text/plain": [
       "[81.03396302250803,\n",
       " 83.97578040904197,\n",
       " 81.15801966768396,\n",
       " 80.74625775830594,\n",
       " 83.816757493188,\n",
       " 80.9344120819849,\n",
       " 83.81498829039812,\n",
       " 81.18272197463148,\n",
       " 80.96639361478681,\n",
       " 84.04469854469855,\n",
       " 80.74468617154288,\n",
       " 83.72572402044293,\n",
       " 83.84892966360856,\n",
       " 83.98948751642575,\n",
       " 83.955]"
      ]
     },
     "execution_count": 447,
     "metadata": {},
     "output_type": "execute_result"
    }
   ],
   "source": [
    "#Calculate the average test scores per school\n",
    "per_school_math = list(school_summary.math_score.mean())\n",
    "per_school_math\n",
    "\n",
    "per_school_reading = list(school_summary.reading_score.mean())\n",
    "per_school_reading"
   ]
  },
  {
   "cell_type": "code",
   "execution_count": 448,
   "id": "740c5f7e",
   "metadata": {},
   "outputs": [
    {
     "data": {
      "text/plain": [
       "[100.0,\n",
       " 100.0,\n",
       " 100.0,\n",
       " 100.0,\n",
       " 100.0,\n",
       " 100.0,\n",
       " 100.0,\n",
       " 100.0,\n",
       " 100.0,\n",
       " 100.0,\n",
       " 100.0,\n",
       " 100.0,\n",
       " 100.0,\n",
       " 100.0,\n",
       " 100.0]"
      ]
     },
     "execution_count": 448,
     "metadata": {},
     "output_type": "execute_result"
    }
   ],
   "source": [
    "#Calculate the number of students per school with math scores of 70 or higher\n",
    "students_passing_math = school_data_complete[school_data_complete['math_score'] >= 70].groupby(['school_name'])\n",
    "students_passing_math\n",
    "\n",
    "school_students_passing_math = [(i/j)*100 for i,j in zip(school_summary.math_score.count(),school_total_students)]\n",
    "school_students_passing_math"
   ]
  },
  {
   "cell_type": "code",
   "execution_count": 449,
   "id": "93ef9276",
   "metadata": {},
   "outputs": [
    {
     "data": {
      "text/plain": [
       "[100.0,\n",
       " 100.0,\n",
       " 100.0,\n",
       " 100.0,\n",
       " 100.0,\n",
       " 100.0,\n",
       " 100.0,\n",
       " 100.0,\n",
       " 100.0,\n",
       " 100.0,\n",
       " 100.0,\n",
       " 100.0,\n",
       " 100.0,\n",
       " 100.0,\n",
       " 100.0]"
      ]
     },
     "execution_count": 449,
     "metadata": {},
     "output_type": "execute_result"
    }
   ],
   "source": [
    "#Calculate the number of students per school with reading scores of 70 or higher\n",
    "students_passing_reading = school_data_complete[school_data_complete['reading_score'] >= 70].groupby(['school_name'])\n",
    "students_passing_reading\n",
    "\n",
    "school_students_passing_reading = [(i/j)*100 for i,j in zip(school_summary.reading_score.count(),school_total_students)]\n",
    "school_students_passing_reading"
   ]
  },
  {
   "cell_type": "code",
   "execution_count": 450,
   "id": "3e674330",
   "metadata": {},
   "outputs": [
    {
     "data": {
      "text/plain": [
       "school_name\n",
       "Bailey High School       2719\n",
       "Cabrera High School      1697\n",
       "Figueroa High School     1569\n",
       "Ford High School         1487\n",
       "Griffin High School      1330\n",
       "Hernandez High School    2481\n",
       "Holden High School        381\n",
       "Huang High School        1561\n",
       "Johnson High School      2549\n",
       "Pena High School          871\n",
       "Rodriguez High School    2119\n",
       "Shelton High School      1583\n",
       "Thomas High School       1487\n",
       "Wilson High School       2068\n",
       "Wright High School       1626\n",
       "dtype: int64"
      ]
     },
     "execution_count": 450,
     "metadata": {},
     "output_type": "execute_result"
    }
   ],
   "source": [
    "#Use the provided code to calculate the number of students per school that passed both math and reading with scores of 70 or higher\n",
    "students_passing_math_and_reading = school_data_complete[\n",
    "    (school_data_complete[\"reading_score\"] >= 70) & (school_data_complete[\"math_score\"] >= 70)\n",
    "]\n",
    "school_students_passing_math_and_reading = students_passing_math_and_reading.groupby([\"school_name\"]).size()\n",
    "school_students_passing_math_and_reading"
   ]
  },
  {
   "cell_type": "code",
   "execution_count": 451,
   "id": "80796e99",
   "metadata": {},
   "outputs": [
    {
     "data": {
      "text/plain": [
       "school_name\n",
       "Bailey High School       54.642283\n",
       "Cabrera High School      91.334769\n",
       "Figueroa High School     53.204476\n",
       "Ford High School         54.289887\n",
       "Griffin High School      90.599455\n",
       "Hernandez High School    53.527508\n",
       "Holden High School       89.227166\n",
       "Huang High School        53.513884\n",
       "Johnson High School      53.539172\n",
       "Pena High School         90.540541\n",
       "Rodriguez High School    52.988247\n",
       "Shelton High School      89.892107\n",
       "Thomas High School       90.948012\n",
       "Wilson High School       90.582567\n",
       "Wright High School       90.333333\n",
       "dtype: float64"
      ]
     },
     "execution_count": 451,
     "metadata": {},
     "output_type": "execute_result"
    }
   ],
   "source": [
    "#Use the provided code to calculate the passing rates\n",
    "per_school_passing_math = school_students_passing_math / per_school_counts * 100\n",
    "per_school_passing_math\n",
    "\n",
    "per_school_passing_reading = school_students_passing_reading / per_school_counts * 100\n",
    "per_school_passing_reading\n",
    "\n",
    "overall_passing_rate = school_students_passing_math_and_reading / per_school_counts * 100\n",
    "overall_passing_rate"
   ]
  },
  {
   "cell_type": "code",
   "execution_count": 452,
   "id": "1e654f76",
   "metadata": {},
   "outputs": [],
   "source": [
    "#Create a DataFrame called `per_school_summary` with columns for the calculations above.\n",
    "per_school_summary = pd.DataFrame(\n",
    "    [\n",
    "        {\n",
    "                                   \"School Type\": school_types,\n",
    "                                   \"Total Students\": school_total_students,\n",
    "                                   \"Total School Budget\": school_budget,\n",
    "                                   \"Per Student Budget\": per_school_capita,\n",
    "                                   \"Average Math Score\": per_school_math,\n",
    "                                   \"Average Reading Score\": per_school_reading,\n",
    "                                   \"% Passing Math\": per_school_passing_math,\n",
    "                                   \"% Passing Reading\": per_school_passing_reading,\n",
    "                                   \"% Overall Passing Rate\": overall_passing_rate\n",
    "        }\n",
    "    ]\n",
    ")"
   ]
  },
  {
   "cell_type": "code",
   "execution_count": 453,
   "id": "b0dbdefe",
   "metadata": {},
   "outputs": [
    {
     "ename": "TypeError",
     "evalue": "unsupported format string passed to list.__format__",
     "output_type": "error",
     "traceback": [
      "\u001b[1;31m---------------------------------------------------------------------------\u001b[0m",
      "\u001b[1;31mTypeError\u001b[0m                                 Traceback (most recent call last)",
      "Cell \u001b[1;32mIn[453], line 2\u001b[0m\n\u001b[0;32m      1\u001b[0m \u001b[39m#Formatting\u001b[39;00m\n\u001b[1;32m----> 2\u001b[0m per_school_summary[\u001b[39m\"\u001b[39m\u001b[39mTotal School Budget\u001b[39m\u001b[39m\"\u001b[39m] \u001b[39m=\u001b[39m per_school_summary[\u001b[39m\"\u001b[39;49m\u001b[39mTotal School Budget\u001b[39;49m\u001b[39m\"\u001b[39;49m]\u001b[39m.\u001b[39;49mmap(\u001b[39m\"\u001b[39;49m\u001b[39m$\u001b[39;49m\u001b[39m{:,.2f}\u001b[39;49;00m\u001b[39m\"\u001b[39;49m\u001b[39m.\u001b[39;49mformat)\n\u001b[0;32m      3\u001b[0m per_school_summary[\u001b[39m\"\u001b[39m\u001b[39mPer Student Budget\u001b[39m\u001b[39m\"\u001b[39m] \u001b[39m=\u001b[39m per_school_summary[\u001b[39m\"\u001b[39m\u001b[39mPer Student Budget\u001b[39m\u001b[39m\"\u001b[39m]\u001b[39m.\u001b[39mmap(\u001b[39m\"\u001b[39m\u001b[39m$\u001b[39m\u001b[39m{:,.2f}\u001b[39;00m\u001b[39m\"\u001b[39m\u001b[39m.\u001b[39mformat)\n\u001b[0;32m      5\u001b[0m \u001b[39m#Display the DataFrame\u001b[39;00m\n",
      "File \u001b[1;32mc:\\Users\\hanna\\anaconda3\\envs\\dev\\lib\\site-packages\\pandas\\core\\series.py:4539\u001b[0m, in \u001b[0;36mSeries.map\u001b[1;34m(self, arg, na_action)\u001b[0m\n\u001b[0;32m   4460\u001b[0m \u001b[39mdef\u001b[39;00m \u001b[39mmap\u001b[39m(\n\u001b[0;32m   4461\u001b[0m     \u001b[39mself\u001b[39m,\n\u001b[0;32m   4462\u001b[0m     arg: Callable \u001b[39m|\u001b[39m Mapping \u001b[39m|\u001b[39m Series,\n\u001b[0;32m   4463\u001b[0m     na_action: Literal[\u001b[39m\"\u001b[39m\u001b[39mignore\u001b[39m\u001b[39m\"\u001b[39m] \u001b[39m|\u001b[39m \u001b[39mNone\u001b[39;00m \u001b[39m=\u001b[39m \u001b[39mNone\u001b[39;00m,\n\u001b[0;32m   4464\u001b[0m ) \u001b[39m-\u001b[39m\u001b[39m>\u001b[39m Series:\n\u001b[0;32m   4465\u001b[0m \u001b[39m    \u001b[39m\u001b[39m\"\"\"\u001b[39;00m\n\u001b[0;32m   4466\u001b[0m \u001b[39m    Map values of Series according to an input mapping or function.\u001b[39;00m\n\u001b[0;32m   4467\u001b[0m \n\u001b[1;32m   (...)\u001b[0m\n\u001b[0;32m   4537\u001b[0m \u001b[39m    dtype: object\u001b[39;00m\n\u001b[0;32m   4538\u001b[0m \u001b[39m    \"\"\"\u001b[39;00m\n\u001b[1;32m-> 4539\u001b[0m     new_values \u001b[39m=\u001b[39m \u001b[39mself\u001b[39;49m\u001b[39m.\u001b[39;49m_map_values(arg, na_action\u001b[39m=\u001b[39;49mna_action)\n\u001b[0;32m   4540\u001b[0m     \u001b[39mreturn\u001b[39;00m \u001b[39mself\u001b[39m\u001b[39m.\u001b[39m_constructor(new_values, index\u001b[39m=\u001b[39m\u001b[39mself\u001b[39m\u001b[39m.\u001b[39mindex)\u001b[39m.\u001b[39m__finalize__(\n\u001b[0;32m   4541\u001b[0m         \u001b[39mself\u001b[39m, method\u001b[39m=\u001b[39m\u001b[39m\"\u001b[39m\u001b[39mmap\u001b[39m\u001b[39m\"\u001b[39m\n\u001b[0;32m   4542\u001b[0m     )\n",
      "File \u001b[1;32mc:\\Users\\hanna\\anaconda3\\envs\\dev\\lib\\site-packages\\pandas\\core\\base.py:890\u001b[0m, in \u001b[0;36mIndexOpsMixin._map_values\u001b[1;34m(self, mapper, na_action)\u001b[0m\n\u001b[0;32m    887\u001b[0m         \u001b[39mraise\u001b[39;00m \u001b[39mValueError\u001b[39;00m(msg)\n\u001b[0;32m    889\u001b[0m \u001b[39m# mapper is a function\u001b[39;00m\n\u001b[1;32m--> 890\u001b[0m new_values \u001b[39m=\u001b[39m map_f(values, mapper)\n\u001b[0;32m    892\u001b[0m \u001b[39mreturn\u001b[39;00m new_values\n",
      "File \u001b[1;32mc:\\Users\\hanna\\anaconda3\\envs\\dev\\lib\\site-packages\\pandas\\_libs\\lib.pyx:2924\u001b[0m, in \u001b[0;36mpandas._libs.lib.map_infer\u001b[1;34m()\u001b[0m\n",
      "\u001b[1;31mTypeError\u001b[0m: unsupported format string passed to list.__format__"
     ]
    }
   ],
   "source": [
    "#Formatting\n",
    "per_school_summary[\"Total School Budget\"] = per_school_summary[\"Total School Budget\"].map(\"${:,.2f}\".format)\n",
    "per_school_summary[\"Per Student Budget\"] = per_school_summary[\"Per Student Budget\"].map(\"${:,.2f}\".format)\n",
    "\n",
    "#Display the DataFrame\n",
    "per_school_summary"
   ]
  },
  {
   "cell_type": "markdown",
   "id": "756afcad",
   "metadata": {},
   "source": [
    "## Highest-Performing Schools (by % Overall Passing)"
   ]
  },
  {
   "cell_type": "code",
   "execution_count": null,
   "id": "87370708",
   "metadata": {},
   "outputs": [
    {
     "data": {
      "text/html": [
       "<div>\n",
       "<style scoped>\n",
       "    .dataframe tbody tr th:only-of-type {\n",
       "        vertical-align: middle;\n",
       "    }\n",
       "\n",
       "    .dataframe tbody tr th {\n",
       "        vertical-align: top;\n",
       "    }\n",
       "\n",
       "    .dataframe thead th {\n",
       "        text-align: right;\n",
       "    }\n",
       "</style>\n",
       "<table border=\"1\" class=\"dataframe\">\n",
       "  <thead>\n",
       "    <tr style=\"text-align: right;\">\n",
       "      <th></th>\n",
       "      <th>School Type</th>\n",
       "      <th>Total Students</th>\n",
       "      <th>Total School Budget</th>\n",
       "      <th>Per Student Budget</th>\n",
       "      <th>Average Math Score</th>\n",
       "      <th>Average Reading Score</th>\n",
       "      <th>% Passing Math</th>\n",
       "      <th>% Passing Reading</th>\n",
       "      <th>% Overall Passing Rate</th>\n",
       "    </tr>\n",
       "  </thead>\n",
       "  <tbody>\n",
       "    <tr>\n",
       "      <th>0</th>\n",
       "      <td>7     District\n",
       "6      Charter\n",
       "1     District\n",
       "1...</td>\n",
       "      <td>[4976, 1858, 2949, 2739, 1468, 4635, 427, 2917...</td>\n",
       "      <td>[3124928.0, 1081356.0, 1884411.0, 1763916.0, 9...</td>\n",
       "      <td>[628.0, 582.0, 639.0, 644.0, 625.0, 652.0, 581...</td>\n",
       "      <td>[77.04843247588424, 83.06189451022605, 76.7117...</td>\n",
       "      <td>[81.03396302250803, 83.97578040904197, 81.1580...</td>\n",
       "      <td>school_name\n",
       "Bailey High School        2.009646...</td>\n",
       "      <td>school_name\n",
       "Bailey High School        2.009646...</td>\n",
       "      <td>school_name\n",
       "Bailey High School       54.642283...</td>\n",
       "    </tr>\n",
       "  </tbody>\n",
       "</table>\n",
       "</div>"
      ],
      "text/plain": [
       "                                         School Type  \\\n",
       "0  7     District\n",
       "6      Charter\n",
       "1     District\n",
       "1...   \n",
       "\n",
       "                                      Total Students  \\\n",
       "0  [4976, 1858, 2949, 2739, 1468, 4635, 427, 2917...   \n",
       "\n",
       "                                 Total School Budget  \\\n",
       "0  [3124928.0, 1081356.0, 1884411.0, 1763916.0, 9...   \n",
       "\n",
       "                                  Per Student Budget  \\\n",
       "0  [628.0, 582.0, 639.0, 644.0, 625.0, 652.0, 581...   \n",
       "\n",
       "                                  Average Math Score  \\\n",
       "0  [77.04843247588424, 83.06189451022605, 76.7117...   \n",
       "\n",
       "                               Average Reading Score  \\\n",
       "0  [81.03396302250803, 83.97578040904197, 81.1580...   \n",
       "\n",
       "                                      % Passing Math  \\\n",
       "0  school_name\n",
       "Bailey High School        2.009646...   \n",
       "\n",
       "                                   % Passing Reading  \\\n",
       "0  school_name\n",
       "Bailey High School        2.009646...   \n",
       "\n",
       "                              % Overall Passing Rate  \n",
       "0  school_name\n",
       "Bailey High School       54.642283...  "
      ]
     },
     "execution_count": 256,
     "metadata": {},
     "output_type": "execute_result"
    }
   ],
   "source": [
    "#Sort the schools by `% Overall Passing` in descending order and display the top 5 rows.\n",
    "top_schools = per_school_summary.sort_values([\"% Overall Passing Rate\"], ascending=False)\n",
    "top_schools.head(5)"
   ]
  },
  {
   "cell_type": "markdown",
   "id": "052c4f41",
   "metadata": {},
   "source": [
    "## Bottom Performing Schools (By % Overall Passing)"
   ]
  },
  {
   "cell_type": "code",
   "execution_count": null,
   "id": "8e31bd64",
   "metadata": {},
   "outputs": [
    {
     "data": {
      "text/html": [
       "<div>\n",
       "<style scoped>\n",
       "    .dataframe tbody tr th:only-of-type {\n",
       "        vertical-align: middle;\n",
       "    }\n",
       "\n",
       "    .dataframe tbody tr th {\n",
       "        vertical-align: top;\n",
       "    }\n",
       "\n",
       "    .dataframe thead th {\n",
       "        text-align: right;\n",
       "    }\n",
       "</style>\n",
       "<table border=\"1\" class=\"dataframe\">\n",
       "  <thead>\n",
       "    <tr style=\"text-align: right;\">\n",
       "      <th></th>\n",
       "      <th>School Type</th>\n",
       "      <th>Total Students</th>\n",
       "      <th>Total School Budget</th>\n",
       "      <th>Per Student Budget</th>\n",
       "      <th>Average Math Score</th>\n",
       "      <th>Average Reading Score</th>\n",
       "      <th>% Passing Math</th>\n",
       "      <th>% Passing Reading</th>\n",
       "      <th>% Overall Passing Rate</th>\n",
       "    </tr>\n",
       "  </thead>\n",
       "  <tbody>\n",
       "    <tr>\n",
       "      <th>0</th>\n",
       "      <td>7     District\n",
       "6      Charter\n",
       "1     District\n",
       "1...</td>\n",
       "      <td>[4976, 1858, 2949, 2739, 1468, 4635, 427, 2917...</td>\n",
       "      <td>[3124928.0, 1081356.0, 1884411.0, 1763916.0, 9...</td>\n",
       "      <td>[628.0, 582.0, 639.0, 644.0, 625.0, 652.0, 581...</td>\n",
       "      <td>[77.04843247588424, 83.06189451022605, 76.7117...</td>\n",
       "      <td>[81.03396302250803, 83.97578040904197, 81.1580...</td>\n",
       "      <td>school_name\n",
       "Bailey High School        2.009646...</td>\n",
       "      <td>school_name\n",
       "Bailey High School        2.009646...</td>\n",
       "      <td>school_name\n",
       "Bailey High School       54.642283...</td>\n",
       "    </tr>\n",
       "  </tbody>\n",
       "</table>\n",
       "</div>"
      ],
      "text/plain": [
       "                                         School Type  \\\n",
       "0  7     District\n",
       "6      Charter\n",
       "1     District\n",
       "1...   \n",
       "\n",
       "                                      Total Students  \\\n",
       "0  [4976, 1858, 2949, 2739, 1468, 4635, 427, 2917...   \n",
       "\n",
       "                                 Total School Budget  \\\n",
       "0  [3124928.0, 1081356.0, 1884411.0, 1763916.0, 9...   \n",
       "\n",
       "                                  Per Student Budget  \\\n",
       "0  [628.0, 582.0, 639.0, 644.0, 625.0, 652.0, 581...   \n",
       "\n",
       "                                  Average Math Score  \\\n",
       "0  [77.04843247588424, 83.06189451022605, 76.7117...   \n",
       "\n",
       "                               Average Reading Score  \\\n",
       "0  [81.03396302250803, 83.97578040904197, 81.1580...   \n",
       "\n",
       "                                      % Passing Math  \\\n",
       "0  school_name\n",
       "Bailey High School        2.009646...   \n",
       "\n",
       "                                   % Passing Reading  \\\n",
       "0  school_name\n",
       "Bailey High School        2.009646...   \n",
       "\n",
       "                              % Overall Passing Rate  \n",
       "0  school_name\n",
       "Bailey High School       54.642283...  "
      ]
     },
     "execution_count": 362,
     "metadata": {},
     "output_type": "execute_result"
    }
   ],
   "source": [
    "#Sort the schools by `% Overall Passing` in ascending order and display the top 5 rows.\n",
    "bottom_schools = per_school_summary.sort_values([\"% Overall Passing Rate\"], ascending=True)\n",
    "bottom_schools.head(5)"
   ]
  },
  {
   "cell_type": "markdown",
   "id": "0658c2e8",
   "metadata": {},
   "source": [
    "## Mathscores by Grade"
   ]
  },
  {
   "cell_type": "code",
   "execution_count": null,
   "id": "6c548267",
   "metadata": {},
   "outputs": [],
   "source": [
    "# Use the code provided to separate the data by grade\n",
    "ninth_graders = school_data_complete[(school_data_complete[\"grade\"] == \"9th\")]\n",
    "tenth_graders = school_data_complete[(school_data_complete[\"grade\"] == \"10th\")]\n",
    "eleventh_graders = school_data_complete[(school_data_complete[\"grade\"] == \"11th\")]\n",
    "twelfth_graders = school_data_complete[(school_data_complete[\"grade\"] == \"12th\")]"
   ]
  },
  {
   "cell_type": "code",
   "execution_count": null,
   "id": "7d4d4418",
   "metadata": {},
   "outputs": [
    {
     "name": "stderr",
     "output_type": "stream",
     "text": [
      "C:\\Users\\hanna\\AppData\\Local\\Temp\\ipykernel_8872\\2901394985.py:2: FutureWarning: The default value of numeric_only in DataFrameGroupBy.mean is deprecated. In a future version, numeric_only will default to False. Either specify numeric_only or select only columns which should be valid for the function.\n",
      "  ninth_grade_math_scores = ninth_graders.groupby([\"school_name\"]).mean()[\"math_score\"]\n",
      "C:\\Users\\hanna\\AppData\\Local\\Temp\\ipykernel_8872\\2901394985.py:3: FutureWarning: The default value of numeric_only in DataFrameGroupBy.mean is deprecated. In a future version, numeric_only will default to False. Either specify numeric_only or select only columns which should be valid for the function.\n",
      "  tenth_grader_math_scores = tenth_graders.groupby([\"school_name\"]).mean()[\"math_score\"]\n",
      "C:\\Users\\hanna\\AppData\\Local\\Temp\\ipykernel_8872\\2901394985.py:4: FutureWarning: The default value of numeric_only in DataFrameGroupBy.mean is deprecated. In a future version, numeric_only will default to False. Either specify numeric_only or select only columns which should be valid for the function.\n",
      "  eleventh_grader_math_scores = eleventh_graders.groupby([\"school_name\"]).mean()[\"math_score\"]\n",
      "C:\\Users\\hanna\\AppData\\Local\\Temp\\ipykernel_8872\\2901394985.py:5: FutureWarning: The default value of numeric_only in DataFrameGroupBy.mean is deprecated. In a future version, numeric_only will default to False. Either specify numeric_only or select only columns which should be valid for the function.\n",
      "  twelfth_grader_math_scores = twelfth_graders.groupby([\"school_name\"]).mean()[\"math_score\"]\n"
     ]
    }
   ],
   "source": [
    "# Group by `school_name` and take the mean of the `math_score` column for each.\n",
    "ninth_grade_math_scores = ninth_graders.groupby([\"school_name\"]).mean()[\"math_score\"]\n",
    "tenth_grader_math_scores = tenth_graders.groupby([\"school_name\"]).mean()[\"math_score\"] \n",
    "eleventh_grader_math_scores = eleventh_graders.groupby([\"school_name\"]).mean()[\"math_score\"]\n",
    "twelfth_grader_math_scores = twelfth_graders.groupby([\"school_name\"]).mean()[\"math_score\"]"
   ]
  },
  {
   "cell_type": "code",
   "execution_count": null,
   "id": "b4ba44bf",
   "metadata": {},
   "outputs": [
    {
     "ename": "NameError",
     "evalue": "name 'ninth_grade_scores' is not defined",
     "output_type": "error",
     "traceback": [
      "\u001b[1;31m---------------------------------------------------------------------------\u001b[0m",
      "\u001b[1;31mNameError\u001b[0m                                 Traceback (most recent call last)",
      "Cell \u001b[1;32mIn[396], line 2\u001b[0m\n\u001b[0;32m      1\u001b[0m \u001b[39m# Combine each of the scores above into single DataFrame called `math_scores_by_grade`\u001b[39;00m\n\u001b[1;32m----> 2\u001b[0m math_scores_by_grade \u001b[39m=\u001b[39m pd\u001b[39m.\u001b[39mDataFrame({\u001b[39m\"\u001b[39m\u001b[39m9th\u001b[39m\u001b[39m\"\u001b[39m: ninth_grade_scores, \u001b[39m\"\u001b[39m\u001b[39m10th\u001b[39m\u001b[39m\"\u001b[39m: tenth_grade_scores,\n\u001b[0;32m      3\u001b[0m                                      \u001b[39m\"\u001b[39m\u001b[39m11th\u001b[39m\u001b[39m\"\u001b[39m: eleventh_grade_scores, \u001b[39m\"\u001b[39m\u001b[39m12th\u001b[39m\u001b[39m\"\u001b[39m: twelfth_grade_scores})\n\u001b[0;32m      5\u001b[0m \u001b[39m# Minor data wrangling\u001b[39;00m\n\u001b[0;32m      6\u001b[0m math_scores_by_grade\u001b[39m.\u001b[39mindex\u001b[39m.\u001b[39mname \u001b[39m=\u001b[39m \u001b[39mNone\u001b[39;00m\n",
      "\u001b[1;31mNameError\u001b[0m: name 'ninth_grade_scores' is not defined"
     ]
    }
   ],
   "source": [
    "# Combine each of the scores above into single DataFrame called `math_scores_by_grade`\n",
    "math_scores_by_grade = pd.DataFrame({\"9th\": ninth_grade_scores, \"10th\": tenth_grade_scores,\n",
    "                                     \"11th\": eleventh_grade_scores, \"12th\": twelfth_grade_scores})\n",
    "\n",
    "# Minor data wrangling\n",
    "math_scores_by_grade.index.name = None\n",
    "\n",
    "# Display the DataFrame\n",
    "math_scores_by_grade"
   ]
  }
 ],
 "metadata": {
  "kernelspec": {
   "display_name": "Python 3 (ipykernel)",
   "language": "python",
   "name": "python3"
  },
  "language_info": {
   "codemirror_mode": {
    "name": "ipython",
    "version": 3
   },
   "file_extension": ".py",
   "mimetype": "text/x-python",
   "name": "python",
   "nbconvert_exporter": "python",
   "pygments_lexer": "ipython3",
   "version": "3.10.11"
  }
 },
 "nbformat": 4,
 "nbformat_minor": 5
}
