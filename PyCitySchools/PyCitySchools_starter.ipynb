{
 "cells": [
  {
   "cell_type": "code",
   "execution_count": 8,
   "id": "e0fe7e01",
   "metadata": {},
   "outputs": [],
   "source": [
    "#Set up:\n",
    "import pandas as pd\n",
    "from pathlib import Path"
   ]
  },
  {
   "cell_type": "code",
   "execution_count": 9,
   "id": "f0460d22",
   "metadata": {},
   "outputs": [],
   "source": [
    "#Files to import in:\n",
    "student_data_to_import = Path('C:\\\\Users\\\\hanna\\\\Desktop\\\\Pandas_Starter_Code\\\\PyCitySchools\\\\Resources\\\\students_complete.csv')\n",
    "school_data_to_import = Path('C:\\\\Users\\\\hanna\\\\Desktop\\\\Pandas_Starter_Code\\\\PyCitySchools\\\\Resources\\\\schools_complete.csv')"
   ]
  },
  {
   "cell_type": "code",
   "execution_count": 10,
   "id": "08999a9a",
   "metadata": {},
   "outputs": [],
   "source": [
    "#Store files as DataFrames in Pandas: *Student Data and *School Data\n",
    "student_data = pd.read_csv(student_data_to_import)\n",
    "school_data = pd.read_csv(school_data_to_import)"
   ]
  },
  {
   "cell_type": "code",
   "execution_count": null,
   "id": "f76d8b5d",
   "metadata": {},
   "outputs": [],
   "source": [
    "#Combine data into a single dataset:Total number of unique schools, Total students, Total budget, Average math score, Average reading score, % passing math (the percentage of students who passed math),% passing reading (the percentage of students who passed reading), % overall passing (the percentage of students who passed math AND reading)\n"
   ]
  }
 ],
 "metadata": {
  "kernelspec": {
   "display_name": "Python 3 (ipykernel)",
   "language": "python",
   "name": "python3"
  },
  "language_info": {
   "codemirror_mode": {
    "name": "ipython",
    "version": 3
   },
   "file_extension": ".py",
   "mimetype": "text/x-python",
   "name": "python",
   "nbconvert_exporter": "python",
   "pygments_lexer": "ipython3",
   "version": "3.10.11"
  }
 },
 "nbformat": 4,
 "nbformat_minor": 5
}
