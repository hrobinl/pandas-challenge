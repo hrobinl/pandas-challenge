{
 "cells": [
  {
   "cell_type": "code",
   "execution_count": 1,
   "id": "e0fe7e01",
   "metadata": {},
   "outputs": [],
   "source": [
    "#Set up:\n",
    "import pandas as pd\n",
    "from pathlib import Path"
   ]
  },
  {
   "cell_type": "code",
   "execution_count": 4,
   "id": "f0460d22",
   "metadata": {},
   "outputs": [],
   "source": [
    "#Files to import in:\n",
    "student_data_to_import = Path('C:\\\\Users\\\\hanna\\\\OneDrive\\\\Desktop\\\\Pandas_Starter_Code\\\\PyCitySchools\\\\Resources\\\\students_complete.csv')\n",
    "school_data_to_import = Path('C:\\\\Users\\\\hanna\\\\OneDrive\\\\Desktop\\\\Pandas_Starter_Code\\\\PyCitySchools\\\\Resources\\\\schools_complete.csv')"
   ]
  },
  {
   "cell_type": "code",
   "execution_count": 11,
   "id": "08999a9a",
   "metadata": {},
   "outputs": [],
   "source": [
    "#Store files as DataFrames in Pandas: *Student Data and *School Data\n",
    "student_data = pd.read_csv(student_data_to_import)\n",
    "school_data = pd.read_csv(school_data_to_import)"
   ]
  },
  {
   "cell_type": "code",
   "execution_count": 12,
   "id": "ef837d6f",
   "metadata": {},
   "outputs": [],
   "source": [
    "#Combine the data into a single dataset\n",
    "school_data_complete = pd.merge(student_data, school_data, how=\"left\", on=[\"school_name\", \"school_name\"])"
   ]
  },
  {
   "cell_type": "markdown",
   "id": "c5c8429f",
   "metadata": {},
   "source": [
    "Disctrict Summary"
   ]
  },
  {
   "cell_type": "code",
   "execution_count": 13,
   "id": "c031f8a6",
   "metadata": {},
   "outputs": [
    {
     "data": {
      "text/plain": [
       "15"
      ]
     },
     "execution_count": 13,
     "metadata": {},
     "output_type": "execute_result"
    }
   ],
   "source": [
    "#DISCT Total number of (unique) schools:\n",
    "total_schools = len(school_data_complete.school_name.unique())\n",
    "total_schools"
   ]
  },
  {
   "cell_type": "code",
   "execution_count": 14,
   "id": "719290cb",
   "metadata": {},
   "outputs": [
    {
     "data": {
      "text/plain": [
       "39170"
      ]
     },
     "execution_count": 14,
     "metadata": {},
     "output_type": "execute_result"
    }
   ],
   "source": [
    "#DISCT Total number of students:\n",
    "total_students = school_data_complete.student_name.count()\n",
    "total_students"
   ]
  },
  {
   "cell_type": "code",
   "execution_count": 15,
   "id": "32573164",
   "metadata": {},
   "outputs": [
    {
     "data": {
      "text/plain": [
       "24649428"
      ]
     },
     "execution_count": 15,
     "metadata": {},
     "output_type": "execute_result"
    }
   ],
   "source": [
    "#DISCT Total budget:\n",
    "total_budget = total_budget = sum(school_data_complete.budget.unique()) \n",
    "total_budget"
   ]
  },
  {
   "cell_type": "code",
   "execution_count": 16,
   "id": "1a29ef0f",
   "metadata": {},
   "outputs": [
    {
     "data": {
      "text/plain": [
       "78.98537145774827"
      ]
     },
     "execution_count": 16,
     "metadata": {},
     "output_type": "execute_result"
    }
   ],
   "source": [
    "#DISCT Average math score:\n",
    "average_math_score = school_data_complete.math_score.mean()\n",
    "average_math_score"
   ]
  },
  {
   "cell_type": "code",
   "execution_count": 17,
   "id": "fc9e06dd",
   "metadata": {},
   "outputs": [
    {
     "data": {
      "text/plain": [
       "81.87784018381414"
      ]
     },
     "execution_count": 17,
     "metadata": {},
     "output_type": "execute_result"
    }
   ],
   "source": [
    "#DISCT Average reading score:\n",
    "average_reading_score = school_data_complete.reading_score.mean()\n",
    "average_reading_score"
   ]
  },
  {
   "cell_type": "code",
   "execution_count": 37,
   "id": "947960b9",
   "metadata": {},
   "outputs": [
    {
     "data": {
      "text/plain": [
       "0.0019142418354196528"
      ]
     },
     "execution_count": 37,
     "metadata": {},
     "output_type": "execute_result"
    }
   ],
   "source": [
    "#DISCT Percent of passing math (the percentage of students who passed math with scores greater than or equal to 70):\n",
    "passing_math_count = (school_data_complete[school_data_complete['math_score'] >= 70].math_score.count()) / total_students\n",
    "passing_math_count = passing_math_count / float(total_students) * 100\n",
    "passing_math_count"
   ]
  },
  {
   "cell_type": "code",
   "execution_count": 38,
   "metadata": {},
   "outputs": [
    {
     "data": {
      "text/plain": [
       "0.002190591354731172"
      ]
     },
     "execution_count": 38,
     "metadata": {},
     "output_type": "execute_result"
    }
   ],
   "source": [
    "#DISCT Percent of passing math (the percentage of students who passed reading with scores greater than or equal to 70):\n",
    "passing_reading_count = (school_data_complete[school_data_complete['reading_score'] >= 70].reading_score.count()) / total_students\n",
    "passing_reading_count = passing_reading_count / float(total_students) * 100\n",
    "passing_reading_count"
   ]
  },
  {
   "cell_type": "code",
   "execution_count": 39,
   "id": "de7efa07",
   "metadata": {},
   "outputs": [
    {
     "data": {
      "text/plain": [
       "0.002190591354731172"
      ]
     },
     "execution_count": 39,
     "metadata": {},
     "output_type": "execute_result"
    }
   ],
   "source": [
    "#DISCT Percent passing reading (the percentage of students who passed reading with scores greater than or equal to 70):\n",
    "passing_reading_pct = (school_data_complete[school_data_complete['reading_score'] >= 70].reading_score.count()) / total_students\n",
    "#passing_reading_count= passing_reading_count / float(total_students) * 100\n",
    "passing_reading_count"
   ]
  },
  {
   "cell_type": "code",
   "execution_count": 40,
   "id": "4cf11214",
   "metadata": {},
   "outputs": [
    {
     "data": {
      "text/plain": [
       "0.002052416595075412"
      ]
     },
     "execution_count": 40,
     "metadata": {},
     "output_type": "execute_result"
    }
   ],
   "source": [
    "#DISCT Overall passing rate:\n",
    "overall_passing_rate = (passing_math_count + passing_reading_count)/2\n",
    "overall_passing_rate"
   ]
  },
  {
   "cell_type": "code",
   "execution_count": 51,
   "id": "e6d68cdc",
   "metadata": {},
   "outputs": [],
   "source": [
    "#Combine data into a single dataset:Total number of unique schools, Total students, Total budget, Average math score, Average reading score, % passing math (the percentage of students who passed math),% passing reading (the percentage of students who passed reading), % overall passing (the percentage of students who passed math AND reading)\n",
    "#Store all calculations into dataframe\n",
    "district_summary= pd.DataFrame(\n",
    "    [\n",
    "        {\n",
    "                                 \"Total Schools\": total_schools,\n",
    "                                 \"Total Students\":total_students,\n",
    "                                 \"Total Budget\":total_budget,\n",
    "                                 \"Average Math Score\":average_math_score,\n",
    "                                 \"Average Reading Score\":average_reading_score,                        \n",
    "                                 \"% Passing Math\":passing_math_pct*100,\n",
    "                                 \"% Passing Reading\":passing_reading_pct*100,\n",
    "                                 \"% Overall Passing Rate\":overall_passing_rate*100\n",
    "        }\n",
    "    ]\n",
    ")   "
   ]
  },
  {
   "cell_type": "code",
   "execution_count": 52,
   "id": "e98b345b",
   "metadata": {},
   "outputs": [
    {
     "data": {
      "text/html": [
       "<div>\n",
       "<style scoped>\n",
       "    .dataframe tbody tr th:only-of-type {\n",
       "        vertical-align: middle;\n",
       "    }\n",
       "\n",
       "    .dataframe tbody tr th {\n",
       "        vertical-align: top;\n",
       "    }\n",
       "\n",
       "    .dataframe thead th {\n",
       "        text-align: right;\n",
       "    }\n",
       "</style>\n",
       "<table border=\"1\" class=\"dataframe\">\n",
       "  <thead>\n",
       "    <tr style=\"text-align: right;\">\n",
       "      <th></th>\n",
       "      <th>Total Schools</th>\n",
       "      <th>Total Students</th>\n",
       "      <th>Total Budget</th>\n",
       "      <th>Average Math Score</th>\n",
       "      <th>Average Reading Score</th>\n",
       "      <th>% Passing Math</th>\n",
       "      <th>% Passing Reading</th>\n",
       "      <th>% Overall Passing Rate</th>\n",
       "    </tr>\n",
       "  </thead>\n",
       "  <tbody>\n",
       "    <tr>\n",
       "      <th>0</th>\n",
       "      <td>15</td>\n",
       "      <td>39,170</td>\n",
       "      <td>$24,649,428.00</td>\n",
       "      <td>78.985371</td>\n",
       "      <td>81.87784</td>\n",
       "      <td>74.980853</td>\n",
       "      <td>85.805463</td>\n",
       "      <td>0.205242</td>\n",
       "    </tr>\n",
       "  </tbody>\n",
       "</table>\n",
       "</div>"
      ],
      "text/plain": [
       "   Total Schools Total Students    Total Budget  Average Math Score  \\\n",
       "0             15         39,170  $24,649,428.00           78.985371   \n",
       "\n",
       "   Average Reading Score  % Passing Math  % Passing Reading  \\\n",
       "0               81.87784       74.980853          85.805463   \n",
       "\n",
       "   % Overall Passing Rate  \n",
       "0                0.205242  "
      ]
     },
     "execution_count": 52,
     "metadata": {},
     "output_type": "execute_result"
    }
   ],
   "source": [
    "#Reformat Total Students and Total Budget\n",
    "district_summary['Total Students'] = district_summary.apply(lambda x: \"{:,.0f}\".format(x['Total Students']), axis=1)\n",
    "district_summary['Total Budget'] = district_summary.apply(lambda x: \"${:,.2f}\".format(x['Total Budget']), axis=1)\n",
    "\n",
    "# Print Summary Dataframe\n",
    "district_summary"
   ]
  },
  {
   "cell_type": "markdown",
   "id": "8cb6d21d",
   "metadata": {},
   "source": [
    "School Summary"
   ]
  },
  {
   "cell_type": "code",
   "execution_count": 53,
   "id": "cdc261fe",
   "metadata": {},
   "outputs": [
    {
     "data": {
      "text/plain": [
       "7     District\n",
       "6      Charter\n",
       "1     District\n",
       "13    District\n",
       "4      Charter\n",
       "3     District\n",
       "8      Charter\n",
       "0     District\n",
       "12    District\n",
       "9      Charter\n",
       "11    District\n",
       "2      Charter\n",
       "14     Charter\n",
       "5      Charter\n",
       "10     Charter\n",
       "Name: type, dtype: object"
      ]
     },
     "execution_count": 53,
     "metadata": {},
     "output_type": "execute_result"
    }
   ],
   "source": [
    "#School count types\n",
    "school_types = school_data.sort_values(by=\"school_name\").type\n",
    "school_types"
   ]
  },
  {
   "cell_type": "code",
   "execution_count": 55,
   "id": "80457d6c",
   "metadata": {},
   "outputs": [
    {
     "data": {
      "text/plain": [
       "<pandas.core.groupby.generic.DataFrameGroupBy object at 0x000001FF6DDCD5D0>"
      ]
     },
     "execution_count": 55,
     "metadata": {},
     "output_type": "execute_result"
    }
   ],
   "source": [
    "school_summary = school_data_complete.groupby(['school_name'])\n",
    "school_summary"
   ]
  },
  {
   "cell_type": "code",
   "execution_count": 56,
   "id": "38f76340",
   "metadata": {},
   "outputs": [
    {
     "data": {
      "text/plain": [
       "[4976,\n",
       " 1858,\n",
       " 2949,\n",
       " 2739,\n",
       " 1468,\n",
       " 4635,\n",
       " 427,\n",
       " 2917,\n",
       " 4761,\n",
       " 962,\n",
       " 3999,\n",
       " 1761,\n",
       " 1635,\n",
       " 2283,\n",
       " 1800]"
      ]
     },
     "execution_count": 56,
     "metadata": {},
     "output_type": "execute_result"
    }
   ],
   "source": [
    "#Student count per school\n",
    "school_total_students = list(school_summary.student_name.count())\n",
    "school_total_students"
   ]
  }
 ],
 "metadata": {
  "kernelspec": {
   "display_name": "Python 3 (ipykernel)",
   "language": "python",
   "name": "python3"
  },
  "language_info": {
   "codemirror_mode": {
    "name": "ipython",
    "version": 3
   },
   "file_extension": ".py",
   "mimetype": "text/x-python",
   "name": "python",
   "nbconvert_exporter": "python",
   "pygments_lexer": "ipython3",
   "version": "3.10.11"
  }
 },
 "nbformat": 4,
 "nbformat_minor": 5
}
